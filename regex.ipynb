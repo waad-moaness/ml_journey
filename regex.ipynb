{
 "cells": [
  {
   "cell_type": "code",
   "execution_count": 1,
   "id": "93244b34-8db5-471e-a0ee-de36d6a61c87",
   "metadata": {},
   "outputs": [],
   "source": [
    "import re"
   ]
  },
  {
   "cell_type": "markdown",
   "id": "bc17feab-d441-47b8-b712-cf0e6e416954",
   "metadata": {},
   "source": [
    "### re.search(r 'exprission', text_variable)\n",
    "r indecats this is a regular exprission"
   ]
  },
  {
   "cell_type": "code",
   "execution_count": 2,
   "id": "dd3dbf84-6199-4cb7-b7c5-c01ae8e69628",
   "metadata": {},
   "outputs": [],
   "source": [
    "text = \"\"\"Hello World.\n",
    "I love Python!!!!!\n",
    "My first lucky number is 987-654-321\n",
    "My second lucky number is 876-543-210\n",
    "My third lucky number is 765-432-100\n",
    "My fourth lucky number is 123-456-123-123-456\n",
    "\"\"\""
   ]
  },
  {
   "cell_type": "code",
   "execution_count": 3,
   "id": "ebb7daa8-04a6-4a5e-8b4f-2e64faf66e61",
   "metadata": {},
   "outputs": [
    {
     "data": {
      "text/plain": [
       "<re.Match object; span=(57, 58), match='9'>"
      ]
     },
     "execution_count": 3,
     "metadata": {},
     "output_type": "execute_result"
    }
   ],
   "source": [
    "#return the first match \n",
    "re.search(r'\\d', text )"
   ]
  },
  {
   "cell_type": "code",
   "execution_count": 4,
   "id": "6f5b6312-65fd-4019-a687-74a75da23c59",
   "metadata": {},
   "outputs": [
    {
     "data": {
      "text/plain": [
       "<re.Match object; span=(0, 5), match='Hello'>"
      ]
     },
     "execution_count": 4,
     "metadata": {},
     "output_type": "execute_result"
    }
   ],
   "source": [
    "#we ca also use flags to control the exprission\n",
    "# ^ means match only the beginning\n",
    "# re.I means ignore the case of the string so it doesn't matter ig it's H or h\n",
    "#find the flag you want fron regex101 website\n",
    "re.search(r'^hello', text , flags= re.I)"
   ]
  },
  {
   "cell_type": "markdown",
   "id": "b967c755-ca4f-4a00-822d-9d8bddf14290",
   "metadata": {},
   "source": [
    "### re.findall(r 'exprission', text_variable)\n",
    "return all matches in the string"
   ]
  },
  {
   "cell_type": "code",
   "execution_count": 5,
   "id": "dc2fe637-a534-4fe5-9de4-09a57986dd44",
   "metadata": {},
   "outputs": [
    {
     "data": {
      "text/plain": [
       "['9',\n",
       " '8',\n",
       " '7',\n",
       " '6',\n",
       " '5',\n",
       " '4',\n",
       " '3',\n",
       " '2',\n",
       " '1',\n",
       " '8',\n",
       " '7',\n",
       " '6',\n",
       " '5',\n",
       " '4',\n",
       " '3',\n",
       " '2',\n",
       " '1',\n",
       " '0',\n",
       " '7',\n",
       " '6',\n",
       " '5',\n",
       " '4',\n",
       " '3',\n",
       " '2',\n",
       " '1',\n",
       " '0',\n",
       " '0',\n",
       " '1',\n",
       " '2',\n",
       " '3',\n",
       " '4',\n",
       " '5',\n",
       " '6',\n",
       " '1',\n",
       " '2',\n",
       " '3',\n",
       " '1',\n",
       " '2',\n",
       " '3',\n",
       " '4',\n",
       " '5',\n",
       " '6']"
      ]
     },
     "execution_count": 5,
     "metadata": {},
     "output_type": "execute_result"
    }
   ],
   "source": [
    "re.findall(r'\\d', text)"
   ]
  },
  {
   "cell_type": "code",
   "execution_count": 16,
   "id": "2ef946f1-f266-4576-ae0f-55bca6986b0e",
   "metadata": {},
   "outputs": [
    {
     "data": {
      "text/plain": [
       "['.',\n",
       " '!',\n",
       " '!',\n",
       " '!',\n",
       " '!',\n",
       " '!',\n",
       " '-',\n",
       " '-',\n",
       " '-',\n",
       " '-',\n",
       " '-',\n",
       " '-',\n",
       " '-',\n",
       " '-',\n",
       " '-',\n",
       " '-']"
      ]
     },
     "execution_count": 16,
     "metadata": {},
     "output_type": "execute_result"
    }
   ],
   "source": [
    "# Match only punctuation \n",
    "#[^exprission] match every thing that is not in this exprission\n",
    "re.findall(r'[^\\w\\s]', text)"
   ]
  },
  {
   "cell_type": "code",
   "execution_count": 19,
   "id": "bf0d5416-438a-474d-bcf0-cc3e44e698bb",
   "metadata": {},
   "outputs": [
    {
     "data": {
      "text/plain": [
       "['13-04-2021']"
      ]
     },
     "execution_count": 19,
     "metadata": {},
     "output_type": "execute_result"
    }
   ],
   "source": [
    "# Match right date format (MM-DD-YYYY)\n",
    "text = '''\n",
    "13-04-2021\n",
    "2021-13-04\n",
    "2021-04-13\n",
    "'''\n",
    "re.findall(r'(\\d{2}-\\d{2}-\\d{4})', text)"
   ]
  },
  {
   "cell_type": "code",
   "execution_count": 22,
   "id": "025d9cbb-4303-49c2-8e4d-075188e389f3",
   "metadata": {},
   "outputs": [
    {
     "data": {
      "text/plain": [
       "['username10']"
      ]
     },
     "execution_count": 22,
     "metadata": {},
     "output_type": "execute_result"
    }
   ],
   "source": [
    "# Match right username format (4-14 characters and only letters or digits)\n",
    "text = '''\n",
    "username10\n",
    "abc\n",
    "10\n",
    "'''\n",
    "re.findall(r'[a-zA-Z0-9]{4,14}', text) \n",
    "#\\w won'dt do it cuz it also contains _"
   ]
  },
  {
   "cell_type": "code",
   "execution_count": null,
   "id": "3b99a03e-968a-407c-b5b1-dd2493e832da",
   "metadata": {},
   "outputs": [],
   "source": []
  }
 ],
 "metadata": {
  "kernelspec": {
   "display_name": "Python 3 (ipykernel)",
   "language": "python",
   "name": "python3"
  },
  "language_info": {
   "codemirror_mode": {
    "name": "ipython",
    "version": 3
   },
   "file_extension": ".py",
   "mimetype": "text/x-python",
   "name": "python",
   "nbconvert_exporter": "python",
   "pygments_lexer": "ipython3",
   "version": "3.13.5"
  }
 },
 "nbformat": 4,
 "nbformat_minor": 5
}
